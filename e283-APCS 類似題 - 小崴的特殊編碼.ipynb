{
 "cells": [
  {
   "cell_type": "code",
   "execution_count": 2,
   "metadata": {},
   "outputs": [
    {
     "name": "stdout",
     "output_type": "stream",
     "text": [
      "1\n",
      "0 1 0 1\n",
      "A\n",
      "\n"
     ]
    }
   ],
   "source": [
    "data = {\"0 1 0 1\":\"A\" , \"0 1 1 1\":\"B\" , \"0 0 1 0\":\"C\" , \"1 1 0 1\":\"D\" , \"1 0 0 0\":\"E\" , \"1 1 0 0\":\"F\"}\n",
    "\n",
    "def output(alpha):\n",
    "    return data[alpha]\n",
    "\n",
    "while True:\n",
    "    try:\n",
    "        n = int(input())\n",
    "    except:\n",
    "        break\n",
    "    else:\n",
    "        inp = [input() for i in range(n)]\n",
    "        inp2 = \"\".join(map(output , inp))\n",
    "        print(inp2)"
   ]
  },
  {
   "cell_type": "code",
   "execution_count": null,
   "metadata": {},
   "outputs": [],
   "source": []
  }
 ],
 "metadata": {
  "kernelspec": {
   "display_name": "Python 3",
   "language": "python",
   "name": "python3"
  },
  "language_info": {
   "codemirror_mode": {
    "name": "ipython",
    "version": 3
   },
   "file_extension": ".py",
   "mimetype": "text/x-python",
   "name": "python",
   "nbconvert_exporter": "python",
   "pygments_lexer": "ipython3",
   "version": "3.7.6"
  }
 },
 "nbformat": 4,
 "nbformat_minor": 4
}
