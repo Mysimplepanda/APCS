{
 "cells": [
  {
   "cell_type": "code",
   "execution_count": null,
   "id": "bd019ed8",
   "metadata": {},
   "outputs": [],
   "source": [
    "def find_min_cost(maze, rol, col):\n",
    "    minrow, mincol = 0, 0\n",
    "    min_cost = maze[0][0]\n",
    "    for r in range(row):\n",
    "        for c in range(col):\n",
    "            if maze[r][c] < min_cost:\n",
    "                minrow = r\n",
    "                mincol = c\n",
    "                min_cost = maze[r][c]\n",
    "    return (minrow,  mincol, min_cost)\n",
    "\n",
    "row,col = map(int, input().split())\n",
    "maze = [list(map(int, input().split())) for _ in range(row)]\n",
    "visited = [[0]*col for _ in range(row)]\n",
    "\n",
    "#step1: maze最小cost的位置\n",
    "sr,sc,cost = find_min_cost(maze,row,col)\n",
    "visited[sr][sc] = 1\n",
    "costs = [cost]\n",
    "\n",
    "\n",
    "while True:\n",
    "    dirs = [(-1,0) , (1,0), (0,-1), (0,1)]\n",
    "    canwalk = []\n",
    "\n",
    "    for(r,c) in dirs: #現在的點上下左右四個方向判斷是否可以走\n",
    "        if 0 <= sr+r < row and 0 <= sc+c < col and visited[sr+r][sc+c] !=1:\n",
    "            canwalk.append((sr+r, sc+c, maze[sr+r][sc+c]))\n",
    "\n",
    "    if len(canwalk)==0:\n",
    "            break\n",
    "    else:\n",
    "        canwalk.sort(key = lambda x: x[2]) #根據cost大小作排序\n",
    "        sr,sc = canwalk[0][0] , canwalk[0][1] #排序過後index=0就是下一個要走的點\n",
    "        costs.append(canwalk[0][2])\n",
    "        visited[sr][sc] = 1\n",
    "\n",
    "print(sum(costs))"
   ]
  }
 ],
 "metadata": {
  "kernelspec": {
   "display_name": "Python 3 (ipykernel)",
   "language": "python",
   "name": "python3"
  },
  "language_info": {
   "codemirror_mode": {
    "name": "ipython",
    "version": 3
   },
   "file_extension": ".py",
   "mimetype": "text/x-python",
   "name": "python",
   "nbconvert_exporter": "python",
   "pygments_lexer": "ipython3",
   "version": "3.9.7"
  }
 },
 "nbformat": 4,
 "nbformat_minor": 5
}
