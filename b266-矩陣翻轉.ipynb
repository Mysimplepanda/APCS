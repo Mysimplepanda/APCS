{
 "cells": [
  {
   "cell_type": "code",
   "execution_count": null,
   "metadata": {},
   "outputs": [],
   "source": [
    "R,C,M = map(int, input().split())\n",
    "B     = [list(map(int, input().split())) for _ in range(R)]\n",
    "op    = list(map(int, input().split()))\n",
    "\n",
    "def flipover(M):\n",
    "    return M[::-1]\n",
    "\n",
    "def rorateL(M):\n",
    "    MT = list(map(list, zip(*M)))\n",
    "    return MT[::-1]\n",
    "\n",
    "while op:\n",
    "    operator = op.pop()\n",
    "    \n",
    "    if operator==0:\n",
    "        B = rorateL(B)\n",
    "    else:\n",
    "        B = flipover(B)\n",
    "        \n",
    "else:\n",
    "    print(len(B) , len(B[0]))\n",
    "    for row in B:\n",
    "        print(*row)"
   ]
  }
 ],
 "metadata": {
  "kernelspec": {
   "display_name": "Python 3",
   "language": "python",
   "name": "python3"
  },
  "language_info": {
   "codemirror_mode": {
    "name": "ipython",
    "version": 3
   },
   "file_extension": ".py",
   "mimetype": "text/x-python",
   "name": "python",
   "nbconvert_exporter": "python",
   "pygments_lexer": "ipython3",
   "version": "3.7.6"
  }
 },
 "nbformat": 4,
 "nbformat_minor": 4
}
