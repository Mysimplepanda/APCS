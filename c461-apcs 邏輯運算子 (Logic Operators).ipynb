{
 "cells": [
  {
   "cell_type": "code",
   "execution_count": 2,
   "metadata": {},
   "outputs": [
    {
     "name": "stdout",
     "output_type": "stream",
     "text": [
      "3 3 3\n",
      "(1, 1, 1)\n"
     ]
    }
   ],
   "source": [
    "AND = [(0,0,0),(0,1,0),(1,0,0),(1,1,1)]\n",
    "OR = [(0,0,0),(0,1,1),(1,0,1),(1,1,1)]\n",
    "XOR= [(0,0,0),(0,1,1),(1,0,1),(1,1,0)]\n",
    "\n",
    "t = tuple(map(lambda x:0 if x == 0 else 1 , map(int, input().split())))\n",
    "if t in AND:\n",
    "    print(\"AND\")\n",
    "if t in OR:\n",
    "    print(\"OR\")\n",
    "if t in XOR:\n",
    "    print(\"XOR\")\n",
    "    \n",
    "if t not in AND+OR+XOR:\n",
    "    print(\"IMPOSSIBLE\")"
   ]
  },
  {
   "cell_type": "code",
   "execution_count": null,
   "metadata": {},
   "outputs": [],
   "source": []
  }
 ],
 "metadata": {
  "kernelspec": {
   "display_name": "Python 3",
   "language": "python",
   "name": "python3"
  },
  "language_info": {
   "codemirror_mode": {
    "name": "ipython",
    "version": 3
   },
   "file_extension": ".py",
   "mimetype": "text/x-python",
   "name": "python",
   "nbconvert_exporter": "python",
   "pygments_lexer": "ipython3",
   "version": "3.7.6"
  }
 },
 "nbformat": 4,
 "nbformat_minor": 4
}
