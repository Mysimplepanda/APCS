{
 "cells": [
  {
   "cell_type": "code",
   "execution_count": 1,
   "metadata": {},
   "outputs": [
    {
     "name": "stdout",
     "output_type": "stream",
     "text": [
      "1 8\n",
      "5\n",
      "1 8 0\n",
      "5 6 0\n",
      "2 7 0\n",
      "8 1 0\n",
      "33 22 0\n",
      "2\n"
     ]
    }
   ],
   "source": [
    "a,b = map(int, input().split())\n",
    "n = int(input())\n",
    "data = [list(map(int, input().split())) for i in range(n)]\n",
    "total=0\n",
    "\n",
    "for i in data:\n",
    "    an= i.count(a) - i.count(-a)\n",
    "    bn= i.count(b) - i.count(-b)\n",
    "    \n",
    "    if an!=0 and bn!=0:\n",
    "        total+=1\n",
    "print(total)\n"
   ]
  },
  {
   "cell_type": "code",
   "execution_count": null,
   "metadata": {},
   "outputs": [],
   "source": []
  }
 ],
 "metadata": {
  "kernelspec": {
   "display_name": "Python 3",
   "language": "python",
   "name": "python3"
  },
  "language_info": {
   "codemirror_mode": {
    "name": "ipython",
    "version": 3
   },
   "file_extension": ".py",
   "mimetype": "text/x-python",
   "name": "python",
   "nbconvert_exporter": "python",
   "pygments_lexer": "ipython3",
   "version": "3.7.6"
  }
 },
 "nbformat": 4,
 "nbformat_minor": 4
}
