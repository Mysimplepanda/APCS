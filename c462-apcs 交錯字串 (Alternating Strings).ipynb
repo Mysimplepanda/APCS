{
 "cells": [
  {
   "cell_type": "markdown",
   "id": "ccdd5452",
   "metadata": {},
   "source": [
    "#### 最大連續區間和"
   ]
  },
  {
   "cell_type": "code",
   "execution_count": 3,
   "id": "4da3453e",
   "metadata": {},
   "outputs": [
    {
     "name": "stdout",
     "output_type": "stream",
     "text": [
      "[10, 14]\n"
     ]
    }
   ],
   "source": [
    "#[1, 2, 6, 7, 8, 10, 11, 12, 13, 14]\n",
    "#[1, 2], [6, 8], [10, 14]\n",
    "#[10, 14]\n",
    "#14-10+1=5\n",
    "\n",
    "import functools\n",
    "\n",
    "def find_max_sec(seq):\n",
    "    res = [] #放連續區間\n",
    "    temp = [seq[0], seq[0]] #[start, end]\n",
    "    i = 1 #index 做整個串列的探訪\n",
    "    \n",
    "    while i<len(seq):\n",
    "        if seq[i]-seq[i-1]==1:\n",
    "            temp[1]+=1 #temp[1] = seq[i]\n",
    "            \n",
    "        else:\n",
    "            res.append(temp)\n",
    "            temp = [seq[i], seq[i]]\n",
    "            \n",
    "        i+=1\n",
    "        \n",
    "    else: #end of while loop\n",
    "        res.append(temp)\n",
    "        \n",
    "    #兩兩比較，留下符合條件的一個資料    \n",
    "    max_section = functools.reduce(lambda x,y: x if x[1]-x[0]>y[1]-y[0] else y, res)\n",
    "    \n",
    "    #給連續區間，找到最大連續區間\n",
    "    #max_section = res[0]\n",
    "    #for data in res:\n",
    "        #if data[1]-data[0]+1>max_section[1]-max_section[0]+1:\n",
    "            #max_section = data\n",
    "    return max_section\n",
    "    \n",
    "arr = [1, 2, 6, 7, 8, 10, 11, 12, 13, 14]\n",
    "print(find_max_sec(arr))"
   ]
  },
  {
   "cell_type": "code",
   "execution_count": 7,
   "id": "ae06bbed",
   "metadata": {},
   "outputs": [
    {
     "name": "stdout",
     "output_type": "stream",
     "text": [
      "1\n",
      "aAaaAAAAAAaaaaa\n",
      "010011111100000\n",
      "[1, 1, 2, 6, 5]\n"
     ]
    }
   ],
   "source": [
    "#這才是真的\n",
    "import functools\n",
    "\n",
    "def replace(s): #大寫=>1 小寫=>0\n",
    "    ts = [\"0\" if c.islower() else \"1\" for c in s]\n",
    "    s = \"\".join(ts) #把串列中的資料合成一個字串\n",
    "    \n",
    "    return s\n",
    "\n",
    "def element_sec_add(s):\n",
    "    #找出連續區間中，相同元素的個數\n",
    "    tmp = s[0]\n",
    "    count = 1\n",
    "    seq = []\n",
    "    for i in range(1, len(s)):\n",
    "        if s[i]==tmp:\n",
    "            count += 1\n",
    "        \n",
    "        else:\n",
    "            seq.append(count)\n",
    "            tmp = s[i]\n",
    "            count = 1\n",
    "    else:seq.append(count)\n",
    "        \n",
    "    return seq\n",
    "    \n",
    "#111000010111 => [3,4,1,1,3]\n",
    "\n",
    "def find_max_sec(seq):\n",
    "    res = [] #放連續區間\n",
    "    temp = [seq[0], seq[0]] #[start, end]\n",
    "    i = 1 #index 做整個串列的探訪\n",
    "    \n",
    "    while i<len(seq):\n",
    "        if seq[i]-seq[i-1]==1:\n",
    "            temp[1]+=1 #temp[1] = seq[i]\n",
    "            \n",
    "        else:\n",
    "            res.append(temp)\n",
    "            temp = [seq[i], seq[i]]\n",
    "            \n",
    "        i+=1\n",
    "        \n",
    "    else: #end of while loop\n",
    "        res.append(temp)\n",
    "        \n",
    "    #兩兩比較，留下符合條件的一個資料    \n",
    "    max_section = functools.reduce(lambda x,y: x if x[1]-x[0]>=y[1]-y[0] else y, res)\n",
    "    \n",
    "    return max_section\n",
    "\n",
    "k = int(input())\n",
    "s = input()\n",
    "\n",
    "ts = replace(s)\n",
    "seq = element_sec_add(ts)\n",
    "k_seq = [i for(i,j) in enumerate(seq) if j==k] #滿足k-的字串位置\n",
    "\n",
    "if len(k_seq) == 0:\n",
    "    print(0)\n",
    "    \n",
    "else:\n",
    "    [start , end] = find_max_sec(k_seq)\n",
    "    maxlen = (end-start+1)*k\n",
    "    \n",
    "    if start-1>=0 and seq[start-1]>k:#往前延伸\n",
    "        maxlen+=k\n",
    "    \n",
    "    if end+1 <= len(seq)-1 and seq[end+1]>k:#往後延伸\n",
    "        maxlen+=k\n",
    "    \n",
    "    print(maxlen)"
   ]
  },
  {
   "cell_type": "code",
   "execution_count": null,
   "id": "57a670fa",
   "metadata": {},
   "outputs": [],
   "source": []
  }
 ],
 "metadata": {
  "kernelspec": {
   "display_name": "Python 3 (ipykernel)",
   "language": "python",
   "name": "python3"
  },
  "language_info": {
   "codemirror_mode": {
    "name": "ipython",
    "version": 3
   },
   "file_extension": ".py",
   "mimetype": "text/x-python",
   "name": "python",
   "nbconvert_exporter": "python",
   "pygments_lexer": "ipython3",
   "version": "3.9.7"
  }
 },
 "nbformat": 4,
 "nbformat_minor": 5
}
