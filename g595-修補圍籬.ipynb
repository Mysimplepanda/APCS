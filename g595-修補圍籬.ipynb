{
 "cells": [
  {
   "cell_type": "code",
   "execution_count": null,
   "metadata": {},
   "outputs": [],
   "source": [
    "n = int(input())\n",
    "h = list(map(int, input().split()))\n",
    "\n",
    "if n==3:\n",
    "    total=0\n",
    "    if h[0] == 0:\n",
    "        total+=h[1]\n",
    "    if h[1] == 0:\n",
    "        total += min(h[0],h[2])\n",
    "    if h[2] == 0:\n",
    "        total+=h[1]\n",
    "    \n",
    "else:\n",
    "    total=0\n",
    "    for i in range(n):\n",
    "        if h[i] == 0:\n",
    "            if i == 0:\n",
    "                total+=h[1]\n",
    "            elif i == n-1:\n",
    "                total+=h[n-2]\n",
    "            else:\n",
    "                total+=min(h[i+1],h[i-1])\n",
    "print(total)"
   ]
  }
 ],
 "metadata": {
  "kernelspec": {
   "display_name": "Python 3",
   "language": "python",
   "name": "python3"
  },
  "language_info": {
   "codemirror_mode": {
    "name": "ipython",
    "version": 3
   },
   "file_extension": ".py",
   "mimetype": "text/x-python",
   "name": "python",
   "nbconvert_exporter": "python",
   "pygments_lexer": "ipython3",
   "version": "3.7.6"
  }
 },
 "nbformat": 4,
 "nbformat_minor": 4
}
