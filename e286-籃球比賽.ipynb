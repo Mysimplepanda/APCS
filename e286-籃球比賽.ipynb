{
 "cells": [
  {
   "cell_type": "code",
   "execution_count": 1,
   "metadata": {},
   "outputs": [
    {
     "name": "stdout",
     "output_type": "stream",
     "text": [
      "87 87 87 87\n",
      "78 78 78 78\n",
      "87 87 87 87\n",
      "78 78 78 78\n",
      "348:312\n",
      "348:312\n",
      "Win\n"
     ]
    }
   ],
   "source": [
    "a1 = sum(map(int, input().split()))\n",
    "b1 = sum(map(int, input().split()))\n",
    "a2 = sum(map(int, input().split()))\n",
    "b2 = sum(map(int, input().split()))\n",
    "a3 = 0\n",
    "b3 = 0\n",
    "\n",
    "print(f\"{a1}:{b1}\")\n",
    "print(f\"{a2}:{b2}\")\n",
    "\n",
    "if a1>b1:a3+=1\n",
    "else:b3+=1\n",
    "if a2>b2:a3+=1\n",
    "else:b3+=1\n",
    "if a3>b3:print(\"Win\")\n",
    "elif a3<b3:print(\"Lose\")\n",
    "else:print(\"Tie\")"
   ]
  },
  {
   "cell_type": "code",
   "execution_count": null,
   "metadata": {},
   "outputs": [],
   "source": []
  }
 ],
 "metadata": {
  "kernelspec": {
   "display_name": "Python 3",
   "language": "python",
   "name": "python3"
  },
  "language_info": {
   "codemirror_mode": {
    "name": "ipython",
    "version": 3
   },
   "file_extension": ".py",
   "mimetype": "text/x-python",
   "name": "python",
   "nbconvert_exporter": "python",
   "pygments_lexer": "ipython3",
   "version": "3.7.6"
  }
 },
 "nbformat": 4,
 "nbformat_minor": 4
}
