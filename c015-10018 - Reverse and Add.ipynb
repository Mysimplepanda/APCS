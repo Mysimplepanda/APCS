{
 "cells": [
  {
   "cell_type": "code",
   "execution_count": 41,
   "metadata": {},
   "outputs": [
    {
     "name": "stdout",
     "output_type": "stream",
     "text": [
      "1\n",
      "195\n",
      "4 9339\n"
     ]
    }
   ],
   "source": [
    "def RAA(k):\n",
    "    return str(int(k)+int(k[::-1]))\n",
    "\n",
    "def comp(q):\n",
    "    return list(q) == list(reversed(q))\n",
    "\n",
    "n = int(input())\n",
    "k = [input() for i in range(n)]\n",
    "\n",
    "for i in k:\n",
    "    now=i\n",
    "    now=RAA(now)\n",
    "    count=1\n",
    "    while not comp(now):\n",
    "        count+=1\n",
    "        now=RAA(now)\n",
    "    print(f\"{count} {now}\")\n",
    "    \n",
    "\n"
   ]
  },
  {
   "cell_type": "markdown",
   "metadata": {},
   "source": [
    "    5\n",
    "    195\n",
    "    265\n",
    "    750\n",
    "    2\n",
    "    99"
   ]
  },
  {
   "cell_type": "code",
   "execution_count": null,
   "metadata": {},
   "outputs": [],
   "source": []
  }
 ],
 "metadata": {
  "kernelspec": {
   "display_name": "Python 3",
   "language": "python",
   "name": "python3"
  },
  "language_info": {
   "codemirror_mode": {
    "name": "ipython",
    "version": 3
   },
   "file_extension": ".py",
   "mimetype": "text/x-python",
   "name": "python",
   "nbconvert_exporter": "python",
   "pygments_lexer": "ipython3",
   "version": "3.7.6"
  }
 },
 "nbformat": 4,
 "nbformat_minor": 4
}
