{
 "cells": [
  {
   "cell_type": "code",
   "execution_count": 2,
   "metadata": {},
   "outputs": [
    {
     "name": "stdout",
     "output_type": "stream",
     "text": [
      "2 -1 3\n",
      "4 -5 2\n",
      "2\n",
      "11\n"
     ]
    }
   ],
   "source": [
    "a1,b1,c1 = map(int, input().split())\n",
    "a2,b2,c2 = map(int, input().split())\n",
    "n = int(input())\n",
    "total=[]\n",
    "\n",
    "for i in range(n+1):\n",
    "    x1=i\n",
    "    x2=n-i\n",
    "    \n",
    "    y1 = a1*x1*x1+b1*x1+c1\n",
    "    y2 = a2*x2*x2+b2*x2+c2\n",
    "    \n",
    "    total.append(y1+y2)\n",
    "    \n",
    "print(max(total))"
   ]
  },
  {
   "cell_type": "code",
   "execution_count": null,
   "metadata": {},
   "outputs": [],
   "source": []
  }
 ],
 "metadata": {
  "kernelspec": {
   "display_name": "Python 3",
   "language": "python",
   "name": "python3"
  },
  "language_info": {
   "codemirror_mode": {
    "name": "ipython",
    "version": 3
   },
   "file_extension": ".py",
   "mimetype": "text/x-python",
   "name": "python",
   "nbconvert_exporter": "python",
   "pygments_lexer": "ipython3",
   "version": "3.7.6"
  }
 },
 "nbformat": 4,
 "nbformat_minor": 4
}
