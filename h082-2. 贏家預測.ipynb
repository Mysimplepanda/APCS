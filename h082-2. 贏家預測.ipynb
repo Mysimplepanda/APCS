{
 "cells": [
  {
   "cell_type": "code",
   "execution_count": null,
   "id": "77021bf0",
   "metadata": {},
   "outputs": [],
   "source": [
    "n,m = map(int, input().split())\n",
    "s = [0] + list(map(int, input().split()))\n",
    "t = [0] + list(map(int, input().split()))\n",
    "alive = list(map(int, input().split()))\n",
    "mlose = [0] * (n+1)\n",
    "\n",
    "while len(alive)>1:\n",
    "    winner = []\n",
    "    loser = []\n",
    "\n",
    "    for i in range(0, len(alive)-1, 2):\n",
    "        p1,p2 = alive[i] , alive[i+1]\n",
    "        a, b, c, d = s[p1] , t[p1] , s[p2] , t[p2]\n",
    "        if a*b >= c*d:\n",
    "            win, lose = p1,p2\n",
    "            s[win] += c*d // (2*b)\n",
    "            t[win] += c*d // (2*a)\n",
    "            s[lose] += c//2\n",
    "            t[lose] += d//2\n",
    "\n",
    "        else:\n",
    "            win, lose = p2, p1\n",
    "            s[win] += a*b//(2*d)\n",
    "            t[win] += a*b//(2*c)\n",
    "            s[lose] += a//2\n",
    "            t[lose] += b//2\n",
    "\n",
    "        winner.append(win)\n",
    "        mlose[lose]+=1\n",
    "        if mlose[lose]<m:\n",
    "            loser.append(lose)\n",
    "\n",
    "    if len(alive) %2 == 1:\n",
    "        winner.append(alive[-1])\n",
    "\n",
    "    alive = winner+loser\n",
    "\n",
    "else:\n",
    "    print(alive[0])"
   ]
  }
 ],
 "metadata": {
  "kernelspec": {
   "display_name": "Python 3 (ipykernel)",
   "language": "python",
   "name": "python3"
  },
  "language_info": {
   "codemirror_mode": {
    "name": "ipython",
    "version": 3
   },
   "file_extension": ".py",
   "mimetype": "text/x-python",
   "name": "python",
   "nbconvert_exporter": "python",
   "pygments_lexer": "ipython3",
   "version": "3.9.7"
  }
 },
 "nbformat": 4,
 "nbformat_minor": 5
}
