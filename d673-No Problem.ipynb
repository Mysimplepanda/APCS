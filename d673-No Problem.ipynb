{
 "cells": [
  {
   "cell_type": "code",
   "execution_count": 5,
   "metadata": {},
   "outputs": [
    {
     "name": "stdout",
     "output_type": "stream",
     "text": [
      "-1\n"
     ]
    }
   ],
   "source": [
    "k=1\n",
    "while True:\n",
    "    total = int(input())\n",
    "\n",
    "    if total == -1:\n",
    "        break\n",
    "    else:\n",
    "\n",
    "        make = list(map(int, input().split()))+[0]\n",
    "        need = list(map(int, input().split()))\n",
    "        print(f\"Case {k}:\")       \n",
    "        for i in range(len(need)):\n",
    "            if total >= need[i]:\n",
    "                print(\"No problem! :D\")\n",
    "                total -= need[i]\n",
    "            else:\n",
    "                print(\"No problem. :(\")\n",
    "            \n",
    "            total+=make[i]\n",
    "    k+=1"
   ]
  },
  {
   "cell_type": "markdown",
   "metadata": {},
   "source": [
    "    5\n",
    "    3 0 3 5 8 2 1 0 3 5 6 9\n",
    "    0 0 10 2 6 4 1 0 1 1 2 2\n",
    "    -1"
   ]
  },
  {
   "cell_type": "code",
   "execution_count": 4,
   "metadata": {},
   "outputs": [
    {
     "name": "stdout",
     "output_type": "stream",
     "text": [
      "-1\n"
     ]
    }
   ],
   "source": [
    "#<南無天才大福媽之解>\n",
    "\n",
    "X = 1\n",
    "count  = int(input()) #庫存題目數量\n",
    "\n",
    "while count!=-1: #因為是不定數測資，用while-loop\n",
    "    qs     = list(map(int, input().split())) #每個月出的題目數量\n",
    "    months = list(map(int, input().split())) #每個月用掉的題目數量\n",
    "\n",
    "    print(f\"Case {X}:\")\n",
    "    \n",
    "    for index in range(12):\n",
    "        if count >= months[index]: #庫存數量大於等於每個月需要的題目數量\n",
    "            print(\"No problem! :D\")\n",
    "            count -= months[index]\n",
    "        else:\n",
    "            print(\"No problem. :(\")\n",
    "        \n",
    "        count += qs[index]\n",
    "            \n",
    "    X+=1 #測資已經處理完畢，進入處理下一組測資\n",
    "    count = int(input())\n"
   ]
  },
  {
   "cell_type": "code",
   "execution_count": null,
   "metadata": {},
   "outputs": [],
   "source": []
  }
 ],
 "metadata": {
  "kernelspec": {
   "display_name": "Python 3",
   "language": "python",
   "name": "python3"
  },
  "language_info": {
   "codemirror_mode": {
    "name": "ipython",
    "version": 3
   },
   "file_extension": ".py",
   "mimetype": "text/x-python",
   "name": "python",
   "nbconvert_exporter": "python",
   "pygments_lexer": "ipython3",
   "version": "3.7.6"
  }
 },
 "nbformat": 4,
 "nbformat_minor": 4
}
