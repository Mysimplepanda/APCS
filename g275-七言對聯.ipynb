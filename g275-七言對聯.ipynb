{
 "cells": [
  {
   "cell_type": "code",
   "execution_count": 2,
   "metadata": {},
   "outputs": [
    {
     "name": "stdout",
     "output_type": "stream",
     "text": [
      "1\n"
     ]
    }
   ],
   "source": [
    "n = int(input())\n",
    "data = [[list(map(str, input().split())),list(map(str, input().split()))] for i in range(n)]\n",
    "\n",
    "for i in data:\n",
    "    nothing = True\n",
    "    \n",
    "    if i[0][1] == i[0][3] or i[0][1] != i[0][5] or i[1][1] == i[1][3] or i[1][1] != i[1][5]:\n",
    "        print(\"A\",end=\"\")\n",
    "        nothing = False\n",
    "    if i[0][6] == \"0\" or i[1][6] == \"1\":\n",
    "        print(\"B\",end=\"\")\n",
    "        nothing = False\n",
    "    if i[0][1] == i[1][1] or i[0][3] == i[1][3] or i[0][5] == i[1][5]:\n",
    "        print(\"C\",end=\"\")\n",
    "        nothing = False        \n",
    "    if nothing:\n",
    "        print(\"None\")\n",
    "    else:\n",
    "        print()"
   ]
  },
  {
   "cell_type": "code",
   "execution_count": null,
   "metadata": {},
   "outputs": [],
   "source": []
  }
 ],
 "metadata": {
  "kernelspec": {
   "display_name": "Python 3",
   "language": "python",
   "name": "python3"
  },
  "language_info": {
   "codemirror_mode": {
    "name": "ipython",
    "version": 3
   },
   "file_extension": ".py",
   "mimetype": "text/x-python",
   "name": "python",
   "nbconvert_exporter": "python",
   "pygments_lexer": "ipython3",
   "version": "3.7.6"
  }
 },
 "nbformat": 4,
 "nbformat_minor": 4
}
