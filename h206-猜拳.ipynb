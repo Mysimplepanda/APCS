{
 "cells": [
  {
   "cell_type": "markdown",
   "metadata": {},
   "source": [
    "## h026: 猜拳"
   ]
  },
  {
   "cell_type": "markdown",
   "metadata": {},
   "source": [
    "### 題目分析\n",
    "\n",
    "    Input:\n",
    "        0 (F:哥哥第一次出拳)\n",
    "        4 (N:妹妹共出4次拳)\n",
    "        2 5 0 2 (出拳)\n",
    "    Output:\n",
    "        0: Won at round 1\n",
    "    \n",
    "    # 只要有輸贏則中斷猜拳，如果妹妹出拳完畢沒有分出輸贏，平手\n",
    "    # 哥哥(F)出拳策略:\n",
    "        if   y[i]==y[i-1]  F: 贏過y[i]的拳\n",
    "        else F下一次出拳為y[i]\n",
    "        \n",
    "    F: stone, y[0]: scissor => 0 : Won at round 1"
   ]
  },
  {
   "cell_type": "markdown",
   "metadata": {},
   "source": [
    "    Intput:\n",
    "        5\n",
    "        6\n",
    "        5 5 2 2 0 0\n",
    "       \n",
    "    F: paper             , y[0]: paper    => 5\n",
    "    F: y[0]              , y[1]: paper    => 5 5\n",
    "    F: if y[0]==y[1] F=2 , y[2]: scissor  => 5 5 2\n",
    "    F: y[2] = 2          , y[3]: scissor  => 5 5 2 2\n",
    "    F: if y[2]==y[3] F=0 , y[4]: stone    => 5 5 2 2 0\n",
    "    F: y[4] = 0          , y[5]: stone    => 5 5 2 2 0 0\n",
    "    \n",
    "    =>所有皆出完, 5 5 2 2 0 0 : Drew at round 6"
   ]
  },
  {
   "cell_type": "code",
   "execution_count": 10,
   "metadata": {},
   "outputs": [
    {
     "name": "stdout",
     "output_type": "stream",
     "text": [
      "0\n",
      "1\n",
      "5\n",
      "0 : Won at round 1\n"
     ]
    }
   ],
   "source": [
    "F = int(input()) #哥哥第一次出拳\n",
    "N = int(input()) #妹妹共出幾次拳\n",
    "y = list(map(int,input().split()))\n",
    "\n",
    "if N==1:\n",
    "    if F==y[0]:\n",
    "        print(f\"{F} : Drew at round 1\")\n",
    "    elif F>y[0] and (F,y[0])!=(5,0):\n",
    "        print(f\"{F} : Lost at round 1\")\n",
    "    else:\n",
    "        print(f\"{F} : Won at round 1\")        "
   ]
  },
  {
   "cell_type": "code",
   "execution_count": 13,
   "metadata": {},
   "outputs": [
    {
     "name": "stdout",
     "output_type": "stream",
     "text": [
      "2\n",
      "2\n",
      "2 0\n",
      "2 2 : Lost at round 2\n"
     ]
    }
   ],
   "source": [
    "#字典儲存出拳結果, 出拳: [Won, Lost, Drew]\n",
    "F = int(input()) #哥哥第一次出拳\n",
    "N = int(input()) #妹妹共出幾次拳\n",
    "y = list(map(int,input().split()))\n",
    "R = {0:[5,2,0], 2:[0,5,2], 5:[2,0,5]}\n",
    "\n",
    "if N==1:\n",
    "    index = R[y[0]].index(F)\n",
    "    if index==0:\n",
    "        print(f\"{F} : Won at round 1\")\n",
    "    elif index==1:\n",
    "        print(f\"{F} : Lost at round 1\")\n",
    "    else:\n",
    "        print(f\"{F} : Drew at round 1\")\n",
    "\n",
    "elif N==2:\n",
    "    if F==R[y[0]][0]:\n",
    "        print(f\"{F} : Won at round 1\")\n",
    "    elif F==R[y[0]][1]:\n",
    "        print(f\"{F} : Lost at round 1\")\n",
    "    else: #第一round平手, 妹要出第二次拳\n",
    "        print(F, end=\" \")\n",
    "        F = y[0] #兄第二次出拳\n",
    "        index = R[y[1]].index(F)\n",
    "        if index==0:\n",
    "            print(f\"{F} : Won at round 2\")\n",
    "        elif index==1:\n",
    "            print(f\"{F} : Lost at round 2\")\n",
    "        else:\n",
    "            print(f\"{F} : Drew at round 2\")\n",
    "\n",
    "else:\n",
    "    for i in range(N):\n",
    "        index = R[y[i]].index(F)\n",
    "        if index==0:\n",
    "            print(f\"{F} : Won at round {i+1}\")\n",
    "            break\n",
    "        elif index==1:\n",
    "            print(f\"{F} : Lost at round {i+1}\")\n",
    "            break\n",
    "        else:\n",
    "            print(F, end=\" \")\n",
    "            if y[i]==y[i-1] and i>0:\n",
    "                F = R[y[i]][0]\n",
    "            else:\n",
    "                F = y[i]\n",
    "\n",
    "    else:\n",
    "        print(f\": Drew at round {N}\")"
   ]
  },
  {
   "cell_type": "code",
   "execution_count": 14,
   "metadata": {},
   "outputs": [
    {
     "name": "stdout",
     "output_type": "stream",
     "text": [
      "5\n",
      "6\n",
      "5 5 2 2 0 0\n",
      "5 5 2 2 0 0 5 : Drew at round 6\n"
     ]
    }
   ],
   "source": [
    "#字典儲存出拳結果, 出拳: [Won, Lost, Drew]\n",
    "F = int(input()) #哥哥第一次出拳\n",
    "N = int(input()) #妹妹共出幾次拳\n",
    "y = list(map(int,input().split()))\n",
    "R = {0:[5,2,0], 2:[0,5,2], 5:[2,0,5]}\n",
    "      \n",
    "\n",
    "for i in range(N):\n",
    "    index = R[y[i]].index(F)\n",
    "    if index==0:\n",
    "        print(f\"{F} : Won at round {i+1}\")\n",
    "        break\n",
    "    elif index==1:\n",
    "        print(f\"{F} : Lost at round {i+1}\")\n",
    "        break\n",
    "    else:\n",
    "        print(F, end=\" \")\n",
    "        if y[i]==y[i-1] and i>0:\n",
    "            F = R[y[i]][0]\n",
    "        else:\n",
    "            F = y[i]\n",
    "                \n",
    "else:\n",
    "    print(f\": Drew at round {N}\")"
   ]
  },
  {
   "cell_type": "markdown",
   "metadata": {},
   "source": [
    "### d673: No Problem"
   ]
  },
  {
   "cell_type": "code",
   "execution_count": null,
   "metadata": {},
   "outputs": [],
   "source": [
    "x = 1\n",
    "count  = int(input()) #庫存題目數量\n",
    "qs     = list(map(int, input().split())) #每個月所出的題目數量\n",
    "months = list(map(int, input().split())) #每個月所需的題目數量\n",
    "\n",
    "while count!= -1: #因為是不定數測資，用 while-loop\n",
    "    print(f\"Case {x}:\")\n",
    "    \n",
    "    x+=1 #測資已處理完畢，進入處理下一組測資"
   ]
  },
  {
   "cell_type": "code",
   "execution_count": 16,
   "metadata": {},
   "outputs": [
    {
     "name": "stdout",
     "output_type": "stream",
     "text": [
      "5\n",
      "3 0 3 5 8 2 1 0 3 5 6 9\n",
      "0 0 10 2 6 4 1 0 1 1 2 2\n",
      "Case 1:\n",
      "No problem! :D\n",
      "No problem! :D\n",
      "No problem! :D\n",
      "No problem! :D\n",
      "No problem! :D\n",
      "No problem! :D\n",
      "No problem! :D\n",
      "No problem! :D\n",
      "No problem! :D\n",
      "No problem! :D\n",
      "No problem! :D\n",
      "No problem! :D\n"
     ]
    }
   ],
   "source": [
    "X = 1\n",
    "count  = int(input()) #庫存題目數量\n",
    "\n",
    "while count!=-1: #因為是不定數測資，用while-loop\n",
    "    qs     = list(map(int, input().split())) #每個月出的題目數量\n",
    "    months = list(map(int, input().split())) #每個月用掉的題目數量\n",
    "    print(f\"Case {X}:\")\n",
    "    \n",
    "    for i in months:\n",
    "        if count >= i: #庫存數量大於等於每個月需要的題目數量\n",
    "            print(\"No problem! :D\")\n",
    "            count-=months[i]\n",
    "        else:\n",
    "            print(\"No problem. :(\")\n",
    "            \n",
    "        count+=qs[i]\n",
    "            \n",
    "    X+=1 #測資已經處理完畢，進入處理下一組測資"
   ]
  },
  {
   "cell_type": "code",
   "execution_count": 17,
   "metadata": {},
   "outputs": [
    {
     "name": "stdout",
     "output_type": "stream",
     "text": [
      "5\n",
      "3 0 3 5 8 2 1 0 3 5 6 9\n",
      "0 0 10 2 6 4 1 0 1 1 2 2\n",
      "Case 1:\n",
      "No problem! :D\n",
      "No problem! :D\n",
      "No problem. :(\n",
      "No problem! :D\n",
      "No problem! :D\n",
      "No problem! :D\n",
      "No problem! :D\n",
      "No problem! :D\n",
      "No problem! :D\n",
      "No problem! :D\n",
      "No problem! :D\n",
      "-1\n"
     ]
    }
   ],
   "source": [
    "X = 1\n",
    "count  = int(input()) #庫存題目數量\n",
    "\n",
    "while count!=-1: #因為是不定數測資，用while-loop\n",
    "    qs     = list(map(int, input().split())) #每個月出的題目數量\n",
    "    months = list(map(int, input().split())) #每個月用掉的題目數量\n",
    "\n",
    "    print(f\"Case {X}:\")\n",
    "    \n",
    "    for index in range(12):\n",
    "        if count >= months[index]: #庫存數量大於等於每個月需要的題目數量\n",
    "            print(\"No problem! :D\")\n",
    "            count -= months[index]\n",
    "        else:\n",
    "            print(\"No problem. :(\")\n",
    "        \n",
    "        count += qs[index]\n",
    "            \n",
    "    X+=1 #測資已經處理完畢，進入處理下一組測資\n",
    "    \n",
    "    count = int(input())"
   ]
  },
  {
   "cell_type": "markdown",
   "metadata": {},
   "source": [
    "### e283: 小崴的特殊編碼"
   ]
  },
  {
   "cell_type": "markdown",
   "metadata": {},
   "source": [
    "#### EOF結尾範例題"
   ]
  },
  {
   "cell_type": "code",
   "execution_count": 19,
   "metadata": {},
   "outputs": [
    {
     "name": "stdout",
     "output_type": "stream",
     "text": [
      "1\n",
      "0 1 0 1\n",
      "A\n",
      "\n"
     ]
    }
   ],
   "source": [
    "# EOF結尾: End Of File (1)按下Enter沒有任何輸入 (2)中斷Ctrl+X or Ctrl+Z\n",
    "# method 1: try-except(例外處理)\n",
    "# 發生了TLE錯誤: Time Limit Exceed (超過限制的可執行時間3s)\n",
    "\n",
    "codes = {\n",
    "    \"0 1 0 1\":\"A\",\n",
    "    \"0 1 1 1\":\"B\",\n",
    "    \"0 0 1 0\":\"C\",\n",
    "    \"1 1 0 1\":\"D\",\n",
    "    \"1 0 0 0\":\"E\",\n",
    "    \"1 1 0 0\":\"F\"\n",
    "}\n",
    "\n",
    "while True:\n",
    "    try: #嘗試做出以下的statements測試, 如果沒發生錯誤, 繼續執行\n",
    "        n   = int(input())\n",
    "        ans = \"\"\n",
    "        for _ in range(n):\n",
    "            code = input()\n",
    "            ans+=codes[code] #ans = ans + codes[code]\n",
    "        print(ans)\n",
    "        \n",
    "    except: #出現錯誤時, 中斷(break while-loop)\n",
    "        break"
   ]
  },
  {
   "cell_type": "code",
   "execution_count": 20,
   "metadata": {},
   "outputs": [],
   "source": [
    "# method 2: sys.stdin (從標準輸入得到資料, 再一行一行進行處理)\n",
    "#執行時間: 1.1s (比用try-except+input()快三倍)\n",
    "\n",
    "import sys #載入內建系統函式\n",
    "\n",
    "codes = {\n",
    "    \"0 1 0 1\":\"A\",\n",
    "    \"0 1 1 1\":\"B\",\n",
    "    \"0 0 1 0\":\"C\",\n",
    "    \"1 1 0 1\":\"D\",\n",
    "    \"1 0 0 0\":\"E\",\n",
    "    \"1 1 0 0\":\"F\"\n",
    "}\n",
    "\n",
    "for line in sys.stdin: #連續不斷讀入系統輸入\n",
    "    n   = int(line)\n",
    "    ans = \"\"\n",
    "    for i in range(n):\n",
    "        key = sys.stdin.readline().strip() #從標準輸入只讀出一行(字串), 再去掉斷行與空白\n",
    "        ans += codes[key]\n",
    "    print(ans)"
   ]
  },
  {
   "cell_type": "markdown",
   "metadata": {},
   "source": [
    "#### 看到特定文字或數字(9999)代表輸入結束: while-loop\n",
    "    \n",
    "    1\n",
    "    0 1 0 1\n",
    "    2\n",
    "    1 0 0 0\n",
    "    1 1 0 0\n",
    "    4\n",
    "    1 1 0 1\n",
    "    1 0 0 0\n",
    "    0 1 1 1\n",
    "    1 1 0 1\n",
    "    9999\n"
   ]
  },
  {
   "cell_type": "code",
   "execution_count": null,
   "metadata": {},
   "outputs": [],
   "source": []
  }
 ],
 "metadata": {
  "kernelspec": {
   "display_name": "Python 3",
   "language": "python",
   "name": "python3"
  },
  "language_info": {
   "codemirror_mode": {
    "name": "ipython",
    "version": 3
   },
   "file_extension": ".py",
   "mimetype": "text/x-python",
   "name": "python",
   "nbconvert_exporter": "python",
   "pygments_lexer": "ipython3",
   "version": "3.7.6"
  }
 },
 "nbformat": 4,
 "nbformat_minor": 4
}
